{
 "cells": [
  {
   "cell_type": "code",
   "execution_count": 6,
   "metadata": {},
   "outputs": [],
   "source": [
    "import math\n",
    "import numpy as np\n",
    "import pylab\n",
    "import matplotlib.pyplot as plt\n",
    "from tqdm import tqdm"
   ]
  },
  {
   "cell_type": "code",
   "execution_count": 34,
   "metadata": {},
   "outputs": [
    {
     "name": "stdout",
     "output_type": "stream",
     "text": [
      "[[0.00000000e+00 0.00000000e+00 0.00000000e+00 ... 0.00000000e+00\n",
      "  0.00000000e+00 0.00000000e+00]\n",
      " [1.52354580e-08 1.52354580e-08 1.52354580e-08 ... 1.52354580e-08\n",
      "  1.52354580e-08 1.52354580e-08]\n",
      " [1.71785796e-08 1.71785796e-08 1.71785796e-08 ... 1.71785796e-08\n",
      "  1.71785796e-08 1.71785796e-08]\n",
      " ...\n",
      " [3.64135402e-43 3.64135402e-43 3.64135402e-43 ... 3.64135402e-43\n",
      "  3.64135402e-43 3.64135402e-43]\n",
      " [2.75109264e-43 2.75109264e-43 2.75109264e-43 ... 2.75109264e-43\n",
      "  2.75109264e-43 2.75109264e-43]\n",
      " [2.07765347e-43 2.07765347e-43 2.07765347e-43 ... 2.07765347e-43\n",
      "  2.07765347e-43 2.07765347e-43]]\n"
     ]
    },
    {
     "data": {
      "image/png": "[encoded data removed]",
      "text/plain": [
       "<Figure size 432x288 with 1 Axes>"
      ]
     },
     "metadata": {
      "needs_background": "light"
     },
     "output_type": "display_data"
    }
   ],
   "source": [
    "xmin = 0.\n",
    "xmax = 1.\n",
    "N = 1001\n",
    "dt = 0.05\n",
    "t = 0\n",
    "tmax=75\n",
    "v = 0.01\n",
    "dx = (xmax - xmin)/N\n",
    "u0 = np.zeros((N, N), dtype=np.float64)\n",
    "exact = np.zeros((N, N), dtype=np.float64)\n",
    "x = np.linspace((xmin-dx), (xmax+dx), N)\n",
    "\n",
    "for i in range(1, N):\n",
    "    u0[i] = math.exp(-200*(x[i] - 0.3)**2)\n",
    "    #exact[i] = math.exp(-200*(x[i] - 0.3 - v*t)**2)\n",
    "\n",
    "u = u0\n",
    "unpl = u0\n",
    "plt.plot(x,u,c=\"r\")\n",
    "plt.plot(x,exact,c='b')\n",
    "print(u)"
   ]
  },
  {
   "cell_type": "code",
   "execution_count": 35,
   "metadata": {},
   "outputs": [
    {
     "name": "stdout",
     "output_type": "stream",
     "text": [
      "[[0.00000000e+000 0.00000000e+000 0.00000000e+000 ... 0.00000000e+000\n",
      "  0.00000000e+000 0.00000000e+000]\n",
      " [5.43472210e-323 5.43472210e-323 5.43472210e-323 ... 5.43472210e-323\n",
      "  5.43472210e-323 5.43472210e-323]\n",
      " [2.07507571e-322 2.07507571e-322 2.07507571e-322 ... 2.07507571e-322\n",
      "  2.07507571e-322 2.07507571e-322]\n",
      " ...\n",
      " [5.89968882e-032 5.89968882e-032 5.89968882e-032 ... 5.89968882e-032\n",
      "  5.89968882e-032 5.89968882e-032]\n",
      " [7.42318302e-032 7.42318302e-032 7.42318302e-032 ... 7.42318302e-032\n",
      "  7.42318302e-032 7.42318302e-032]\n",
      " [9.33463591e-032 9.33463591e-032 9.33463591e-032 ... 9.33463591e-032\n",
      "  9.33463591e-032 9.33463591e-032]]\n"
     ]
    },
    {
     "data": {
      "image/png": "[encoded data removed]",
      "text/plain": [
       "<Figure size 432x288 with 1 Axes>"
      ]
     },
     "metadata": {
      "needs_background": "light"
     },
     "output_type": "display_data"
    }
   ],
   "source": [
    "nsteps = tmax/dt\n",
    "for t in tqdm(range(nsteps)):\n",
    "    for i in range(1, N):\n",
    "        unpl[i] = u[i] - ((v*(u[i] - u[i-1]) / dx))*dt \n",
    "    t = t + dt\n",
    "    u = unpl\n",
    "    #exact[t] = math.exp(-200*(x - 0.3 - v*t)**2)\n",
    "\n",
    "\n",
    "\n",
    "plt.plot(x,u,c=\"r\")\n",
    "plt.plot(x,exact,c=\"b\")\n",
    "print(u)"
   ]
  },
  {
   "cell_type": "code",
   "execution_count": null,
   "metadata": {},
   "outputs": [],
   "source": []
  }
 ],
 "metadata": {
  "kernelspec": {
   "display_name": "Python 3",
   "language": "python",
   "name": "python3"
  },
  "language_info": {
   "codemirror_mode": {
    "name": "ipython",
    "version": 3
   },
   "file_extension": ".py",
   "mimetype": "text/x-python",
   "name": "python",
   "nbconvert_exporter": "python",
   "pygments_lexer": "ipython3",
   "version": "3.7.3"
  }
 },
 "nbformat": 4,
 "nbformat_minor": 4
}
